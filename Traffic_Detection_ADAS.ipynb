{
  "nbformat": 4,
  "nbformat_minor": 0,
  "metadata": {
    "colab": {
      "provenance": [],
      "authorship_tag": "ABX9TyMkWHayQOLRRCv3o4VLHj4Z",
      "include_colab_link": true
    },
    "kernelspec": {
      "name": "python3",
      "display_name": "Python 3"
    },
    "language_info": {
      "name": "python"
    }
  },
  "cells": [
    {
      "cell_type": "markdown",
      "metadata": {
        "id": "view-in-github",
        "colab_type": "text"
      },
      "source": [
        "<a href=\"https://colab.research.google.com/github/krishnakanth22/traffic_segmentation/blob/main/Traffic_Detection_ADAS.ipynb\" target=\"_parent\"><img src=\"https://colab.research.google.com/assets/colab-badge.svg\" alt=\"Open In Colab\"/></a>"
      ]
    },
    {
      "cell_type": "code",
      "source": [
        "import tensorflow as tf\n",
        "from tensorflow.keras.layers import Dense, Dropout, Flatten, Conv2D, MaxPooling2D\n",
        "from tensorflow.keras.models import Sequential\n",
        "from tensorflow.keras.preprocessing.image import ImageDataGenerator\n"
      ],
      "metadata": {
        "id": "sw8OmUxLNEIH"
      },
      "execution_count": 10,
      "outputs": []
    },
    {
      "cell_type": "code",
      "source": [
        "datagen = ImageDataGenerator(rescale=1./255)  # No target_size here\n",
        "\n",
        "train_generator = datagen.flow_from_directory(\n",
        "    '/content/segmentation/traffic/test',\n",
        "    class_mode='categorical',\n",
        "    batch_size=32,\n",
        "    target_size=(150, 150)  # Specify size here\n",
        ")\n"
      ],
      "metadata": {
        "colab": {
          "base_uri": "https://localhost:8080/"
        },
        "id": "zceahDqXXySy",
        "outputId": "728e53c0-81ff-4bf1-dee7-766758b3d1d9"
      },
      "execution_count": 37,
      "outputs": [
        {
          "output_type": "stream",
          "name": "stdout",
          "text": [
            "Found 6 images belonging to 4 classes.\n"
          ]
        }
      ]
    },
    {
      "cell_type": "code",
      "source": [
        "from keras.preprocessing.image import ImageDataGenerator, img_to_array, load_img\n",
        "\n",
        "datagen = ImageDataGenerator(rescale=1./255)\n",
        "\n",
        "def pad_images(generator):\n",
        "    for batch in generator:\n",
        "        padded_batch = np.zeros((batch.shape[0], 150, 150, 3))  # Adjust target size\n",
        "        for i, img in enumerate(batch):\n",
        "            padded_batch[i] = img_to_array(load_img(img, target_size=(150, 150)))\n",
        "        yield padded_batch\n",
        "\n",
        "train_generator = datagen.flow_from_directory(\n",
        "    '/content/segmentation/traffic/train',\n",
        "    class_mode='categorical',\n",
        "    batch_size=32\n",
        ")\n",
        "\n",
        "padded_generator = pad_images(train_generator)\n"
      ],
      "metadata": {
        "colab": {
          "base_uri": "https://localhost:8080/"
        },
        "id": "8qA_6BHFYZYW",
        "outputId": "e946eab5-b2f2-4c93-eed6-4ba58369557a"
      },
      "execution_count": 38,
      "outputs": [
        {
          "output_type": "stream",
          "name": "stdout",
          "text": [
            "Found 35 images belonging to 4 classes.\n"
          ]
        }
      ]
    },
    {
      "cell_type": "code",
      "source": [
        "train_datagen = ImageDataGenerator(rescale=1./255,\n",
        "                                   shear_range=0.2,\n",
        "                                   zoom_range=0.2,\n",
        "                                   horizontal_flip=True)\n",
        "\n",
        "test_datagen = ImageDataGenerator(rescale=1./255)\n",
        "\n",
        "train_generator = train_datagen.flow_from_directory(\n",
        "        '/content/segmentation/traffic/train',\n",
        "        target_size=(150, 150),\n",
        "        batch_size=32,\n",
        "        class_mode='categorical')\n",
        "\n",
        "validation_generator = test_datagen.flow_from_directory(\n",
        "        '/content/segmentation/traffic/test',\n",
        "        target_size=(150, 150),\n",
        "        batch_size=32,\n",
        "        class_mode='categorical')\n"
      ],
      "metadata": {
        "colab": {
          "base_uri": "https://localhost:8080/"
        },
        "id": "kJy4OK7ONHKo",
        "outputId": "158a3e21-28a7-4d25-d559-c50579d8632e"
      },
      "execution_count": 24,
      "outputs": [
        {
          "output_type": "stream",
          "name": "stdout",
          "text": [
            "Found 35 images belonging to 4 classes.\n",
            "Found 6 images belonging to 4 classes.\n"
          ]
        }
      ]
    },
    {
      "cell_type": "code",
      "source": [
        "model = Sequential([\n",
        "    Conv2D(32, (3, 3), activation='relu', input_shape=(150, 150, 3)),\n",
        "    MaxPooling2D((2, 2)),\n",
        "    Conv2D(64, (3, 3), activation='relu'),\n",
        "    MaxPooling2D((2, 2)),\n",
        "    Flatten(),\n",
        "    Dense(128, activation='relu'),\n",
        "    Dropout(0.5),\n",
        "    Dense(3, activation='softmax')  # 3 classes: high, medium, normal\n",
        "])\n"
      ],
      "metadata": {
        "id": "nzfHgtHuNUye"
      },
      "execution_count": 16,
      "outputs": []
    },
    {
      "cell_type": "code",
      "source": [
        "model.compile(loss='categorical_crossentropy',\n",
        "              optimizer='adam',\n",
        "              metrics=['accuracy'])\n"
      ],
      "metadata": {
        "id": "PzajsIjRNVV0"
      },
      "execution_count": 17,
      "outputs": []
    },
    {
      "cell_type": "code",
      "source": [
        "for batch in train_generator:\n",
        "    print(\"Batch shape:\", batch[0].shape)\n",
        "    break\n"
      ],
      "metadata": {
        "colab": {
          "base_uri": "https://localhost:8080/"
        },
        "id": "846fArbxZJXH",
        "outputId": "efa400cd-1c5b-450a-e73c-5b502bdbdb17"
      },
      "execution_count": 40,
      "outputs": [
        {
          "output_type": "stream",
          "name": "stdout",
          "text": [
            "Batch shape: (32, 256, 256, 3)\n"
          ]
        }
      ]
    },
    {
      "cell_type": "code",
      "source": [
        "import numpy as np\n",
        "from tensorflow.keras.preprocessing.image import ImageDataGenerator\n",
        "\n",
        "# Assuming your directory structure is as follows:\n",
        "# /content/segmentation/traffic/train/\n",
        "#   - high/\n",
        "#   - medium/\n",
        "#   - normal/\n",
        "# /content/segmentation/traffic/test/\n",
        "#   - high/\n",
        "#   - medium/\n",
        "#   - normal/\n",
        "\n",
        "datagen = ImageDataGenerator(rescale=1./255)  # No need for further augmentation here\n",
        "\n",
        "train_generator = datagen.flow_from_directory(\n",
        "    '/content/segmentation/traffic/train',\n",
        "    target_size=(150, 150),  # Adjust if needed\n",
        "    class_mode='categorical',\n",
        "    shuffle=False  # Keep classes in order for accurate counting\n",
        ")\n",
        "\n",
        "# Get class names and count\n",
        "class_names = train_generator.class_indices\n",
        "class_count = len(class_names)\n",
        "\n",
        "print(\"Class count:\", class_count)\n",
        "print(\"Class names:\", class_names)\n"
      ],
      "metadata": {
        "colab": {
          "base_uri": "https://localhost:8080/"
        },
        "id": "6yLbssg0NbfK",
        "outputId": "e022e0a5-aea8-4579-fad9-ebb4e455a9ab"
      },
      "execution_count": 90,
      "outputs": [
        {
          "output_type": "stream",
          "name": "stdout",
          "text": [
            "Found 35 images belonging to 4 classes.\n",
            "Class count: 4\n",
            "Class names: {'.ipynb_checkpoints': 0, 'high': 1, 'medium': 2, 'normal': 3}\n"
          ]
        }
      ]
    },
    {
      "cell_type": "code",
      "source": [
        "!pip install --upgrade tensorflow keras"
      ],
      "metadata": {
        "colab": {
          "base_uri": "https://localhost:8080/",
          "height": 1000
        },
        "id": "5Lg_reulUK6u",
        "outputId": "c80ccc2b-762f-42ac-a189-7bc0f29e388a"
      },
      "execution_count": 22,
      "outputs": [
        {
          "output_type": "stream",
          "name": "stdout",
          "text": [
            "Requirement already satisfied: tensorflow in /usr/local/lib/python3.10/dist-packages (2.15.0)\n",
            "Collecting tensorflow\n",
            "  Downloading tensorflow-2.15.0.post1-cp310-cp310-manylinux_2_17_x86_64.manylinux2014_x86_64.whl (475.2 MB)\n",
            "\u001b[2K     \u001b[90m━━━━━━━━━━━━━━━━━━━━━━━━━━━━━━━━━━━━━━━━\u001b[0m \u001b[32m475.2/475.2 MB\u001b[0m \u001b[31m3.2 MB/s\u001b[0m eta \u001b[36m0:00:00\u001b[0m\n",
            "\u001b[?25hRequirement already satisfied: keras in /usr/local/lib/python3.10/dist-packages (2.15.0)\n",
            "Collecting keras\n",
            "  Downloading keras-3.0.4-py3-none-any.whl (1.0 MB)\n",
            "\u001b[2K     \u001b[90m━━━━━━━━━━━━━━━━━━━━━━━━━━━━━━━━━━━━━━━━\u001b[0m \u001b[32m1.0/1.0 MB\u001b[0m \u001b[31m66.3 MB/s\u001b[0m eta \u001b[36m0:00:00\u001b[0m\n",
            "\u001b[?25hRequirement already satisfied: absl-py>=1.0.0 in /usr/local/lib/python3.10/dist-packages (from tensorflow) (1.4.0)\n",
            "Requirement already satisfied: astunparse>=1.6.0 in /usr/local/lib/python3.10/dist-packages (from tensorflow) (1.6.3)\n",
            "Requirement already satisfied: flatbuffers>=23.5.26 in /usr/local/lib/python3.10/dist-packages (from tensorflow) (23.5.26)\n",
            "Requirement already satisfied: gast!=0.5.0,!=0.5.1,!=0.5.2,>=0.2.1 in /usr/local/lib/python3.10/dist-packages (from tensorflow) (0.5.4)\n",
            "Requirement already satisfied: google-pasta>=0.1.1 in /usr/local/lib/python3.10/dist-packages (from tensorflow) (0.2.0)\n",
            "Requirement already satisfied: h5py>=2.9.0 in /usr/local/lib/python3.10/dist-packages (from tensorflow) (3.9.0)\n",
            "Requirement already satisfied: libclang>=13.0.0 in /usr/local/lib/python3.10/dist-packages (from tensorflow) (16.0.6)\n",
            "Requirement already satisfied: ml-dtypes~=0.2.0 in /usr/local/lib/python3.10/dist-packages (from tensorflow) (0.2.0)\n",
            "Requirement already satisfied: numpy<2.0.0,>=1.23.5 in /usr/local/lib/python3.10/dist-packages (from tensorflow) (1.23.5)\n",
            "Requirement already satisfied: opt-einsum>=2.3.2 in /usr/local/lib/python3.10/dist-packages (from tensorflow) (3.3.0)\n",
            "Requirement already satisfied: packaging in /usr/local/lib/python3.10/dist-packages (from tensorflow) (23.2)\n",
            "Requirement already satisfied: protobuf!=4.21.0,!=4.21.1,!=4.21.2,!=4.21.3,!=4.21.4,!=4.21.5,<5.0.0dev,>=3.20.3 in /usr/local/lib/python3.10/dist-packages (from tensorflow) (3.20.3)\n",
            "Requirement already satisfied: setuptools in /usr/local/lib/python3.10/dist-packages (from tensorflow) (67.7.2)\n",
            "Requirement already satisfied: six>=1.12.0 in /usr/local/lib/python3.10/dist-packages (from tensorflow) (1.16.0)\n",
            "Requirement already satisfied: termcolor>=1.1.0 in /usr/local/lib/python3.10/dist-packages (from tensorflow) (2.4.0)\n",
            "Requirement already satisfied: typing-extensions>=3.6.6 in /usr/local/lib/python3.10/dist-packages (from tensorflow) (4.5.0)\n",
            "Requirement already satisfied: wrapt<1.15,>=1.11.0 in /usr/local/lib/python3.10/dist-packages (from tensorflow) (1.14.1)\n",
            "Requirement already satisfied: tensorflow-io-gcs-filesystem>=0.23.1 in /usr/local/lib/python3.10/dist-packages (from tensorflow) (0.35.0)\n",
            "Requirement already satisfied: grpcio<2.0,>=1.24.3 in /usr/local/lib/python3.10/dist-packages (from tensorflow) (1.60.0)\n",
            "Requirement already satisfied: tensorboard<2.16,>=2.15 in /usr/local/lib/python3.10/dist-packages (from tensorflow) (2.15.1)\n",
            "Requirement already satisfied: tensorflow-estimator<2.16,>=2.15.0 in /usr/local/lib/python3.10/dist-packages (from tensorflow) (2.15.0)\n",
            "Requirement already satisfied: wheel<1.0,>=0.23.0 in /usr/local/lib/python3.10/dist-packages (from astunparse>=1.6.0->tensorflow) (0.42.0)\n",
            "Requirement already satisfied: google-auth<3,>=1.6.3 in /usr/local/lib/python3.10/dist-packages (from tensorboard<2.16,>=2.15->tensorflow) (2.17.3)\n",
            "Requirement already satisfied: google-auth-oauthlib<2,>=0.5 in /usr/local/lib/python3.10/dist-packages (from tensorboard<2.16,>=2.15->tensorflow) (1.2.0)\n",
            "Requirement already satisfied: markdown>=2.6.8 in /usr/local/lib/python3.10/dist-packages (from tensorboard<2.16,>=2.15->tensorflow) (3.5.2)\n",
            "Requirement already satisfied: requests<3,>=2.21.0 in /usr/local/lib/python3.10/dist-packages (from tensorboard<2.16,>=2.15->tensorflow) (2.31.0)\n",
            "Requirement already satisfied: tensorboard-data-server<0.8.0,>=0.7.0 in /usr/local/lib/python3.10/dist-packages (from tensorboard<2.16,>=2.15->tensorflow) (0.7.2)\n",
            "Requirement already satisfied: werkzeug>=1.0.1 in /usr/local/lib/python3.10/dist-packages (from tensorboard<2.16,>=2.15->tensorflow) (3.0.1)\n",
            "Requirement already satisfied: cachetools<6.0,>=2.0.0 in /usr/local/lib/python3.10/dist-packages (from google-auth<3,>=1.6.3->tensorboard<2.16,>=2.15->tensorflow) (5.3.2)\n",
            "Requirement already satisfied: pyasn1-modules>=0.2.1 in /usr/local/lib/python3.10/dist-packages (from google-auth<3,>=1.6.3->tensorboard<2.16,>=2.15->tensorflow) (0.3.0)\n",
            "Requirement already satisfied: rsa<5,>=3.1.4 in /usr/local/lib/python3.10/dist-packages (from google-auth<3,>=1.6.3->tensorboard<2.16,>=2.15->tensorflow) (4.9)\n",
            "Requirement already satisfied: requests-oauthlib>=0.7.0 in /usr/local/lib/python3.10/dist-packages (from google-auth-oauthlib<2,>=0.5->tensorboard<2.16,>=2.15->tensorflow) (1.3.1)\n",
            "Requirement already satisfied: charset-normalizer<4,>=2 in /usr/local/lib/python3.10/dist-packages (from requests<3,>=2.21.0->tensorboard<2.16,>=2.15->tensorflow) (3.3.2)\n",
            "Requirement already satisfied: idna<4,>=2.5 in /usr/local/lib/python3.10/dist-packages (from requests<3,>=2.21.0->tensorboard<2.16,>=2.15->tensorflow) (3.6)\n",
            "Requirement already satisfied: urllib3<3,>=1.21.1 in /usr/local/lib/python3.10/dist-packages (from requests<3,>=2.21.0->tensorboard<2.16,>=2.15->tensorflow) (2.0.7)\n",
            "Requirement already satisfied: certifi>=2017.4.17 in /usr/local/lib/python3.10/dist-packages (from requests<3,>=2.21.0->tensorboard<2.16,>=2.15->tensorflow) (2023.11.17)\n",
            "Requirement already satisfied: MarkupSafe>=2.1.1 in /usr/local/lib/python3.10/dist-packages (from werkzeug>=1.0.1->tensorboard<2.16,>=2.15->tensorflow) (2.1.4)\n",
            "Requirement already satisfied: pyasn1<0.6.0,>=0.4.6 in /usr/local/lib/python3.10/dist-packages (from pyasn1-modules>=0.2.1->google-auth<3,>=1.6.3->tensorboard<2.16,>=2.15->tensorflow) (0.5.1)\n",
            "Requirement already satisfied: oauthlib>=3.0.0 in /usr/local/lib/python3.10/dist-packages (from requests-oauthlib>=0.7.0->google-auth-oauthlib<2,>=0.5->tensorboard<2.16,>=2.15->tensorflow) (3.2.2)\n",
            "Installing collected packages: tensorflow\n",
            "  Attempting uninstall: tensorflow\n",
            "    Found existing installation: tensorflow 2.15.0\n",
            "    Uninstalling tensorflow-2.15.0:\n",
            "      Successfully uninstalled tensorflow-2.15.0\n",
            "Successfully installed tensorflow-2.15.0.post1\n"
          ]
        },
        {
          "output_type": "display_data",
          "data": {
            "application/vnd.colab-display-data+json": {
              "pip_warning": {
                "packages": [
                  "tensorflow"
                ]
              }
            }
          },
          "metadata": {}
        }
      ]
    },
    {
      "cell_type": "code",
      "source": [
        "import numpy as np\n",
        "from tensorflow.keras.preprocessing.image import ImageDataGenerator\n"
      ],
      "metadata": {
        "id": "TN42yJAPUO7P"
      },
      "execution_count": 25,
      "outputs": []
    },
    {
      "cell_type": "code",
      "source": [
        "datagen = ImageDataGenerator(rescale=1./255)  # Adjust for your preprocessing needs\n"
      ],
      "metadata": {
        "id": "3dwutDTjVfAa"
      },
      "execution_count": 26,
      "outputs": []
    },
    {
      "cell_type": "code",
      "source": [
        "train_generator = datagen.flow_from_directory(\n",
        "    '/content/segmentation/traffic/train',  # Replace with your actual path\n",
        "    target_size=(150, 150),  # Adjust image dimensions as needed\n",
        "    class_mode='categorical',  # For multi-class classification\n",
        "    shuffle=False  # Keep classes in order for accurate counting\n",
        ")\n"
      ],
      "metadata": {
        "colab": {
          "base_uri": "https://localhost:8080/"
        },
        "id": "zGAEB-fbVqPc",
        "outputId": "0298b9df-20b9-4d4d-99fb-a4f99ab28268"
      },
      "execution_count": 30,
      "outputs": [
        {
          "output_type": "stream",
          "name": "stdout",
          "text": [
            "Found 35 images belonging to 4 classes.\n"
          ]
        }
      ]
    },
    {
      "cell_type": "code",
      "source": [
        "class_indices = train_generator.class_indices  # Dictionary of class names and indices\n",
        "class_counts = train_generator.samples  # Array of image counts per class\n",
        "\n",
        "print(\"Class names:\", class_indices)\n",
        "print(\"Class image counts:\", class_counts)\n"
      ],
      "metadata": {
        "colab": {
          "base_uri": "https://localhost:8080/"
        },
        "id": "PGrGWdehVqy_",
        "outputId": "6b5784d0-21e7-49c5-cd73-29a60763cead"
      },
      "execution_count": 31,
      "outputs": [
        {
          "output_type": "stream",
          "name": "stdout",
          "text": [
            "Class names: {'.ipynb_checkpoints': 0, 'high': 1, 'medium': 2, 'normal': 3}\n",
            "Class image counts: 35\n"
          ]
        }
      ]
    },
    {
      "cell_type": "code",
      "source": [
        "def filter_dir(directory):\n",
        "    for root, _, files in os.walk(directory):\n",
        "        if \".ipynb_checkpoints\" in root:\n",
        "            return False\n",
        "    return True\n",
        "\n",
        "train_generator = datagen.flow_from_directory(\n",
        "    '/content/segmentation/traffic/train',\n",
        "    target_size=(150, 150),\n",
        "    class_mode='categorical',\n",
        "    shuffle=False,\n",
        "    directory_filters=[filter_dir]\n",
        ")\n"
      ],
      "metadata": {
        "colab": {
          "base_uri": "https://localhost:8080/",
          "height": 254
        },
        "id": "nnI1x9BOWVyE",
        "outputId": "adc9e071-df88-49d7-879b-b065e1f568cc"
      },
      "execution_count": 34,
      "outputs": [
        {
          "output_type": "error",
          "ename": "TypeError",
          "evalue": "ImageDataGenerator.flow_from_directory() got an unexpected keyword argument 'directory_filters'",
          "traceback": [
            "\u001b[0;31m---------------------------------------------------------------------------\u001b[0m",
            "\u001b[0;31mTypeError\u001b[0m                                 Traceback (most recent call last)",
            "\u001b[0;32m<ipython-input-34-2701d015bf9f>\u001b[0m in \u001b[0;36m<cell line: 7>\u001b[0;34m()\u001b[0m\n\u001b[1;32m      5\u001b[0m     \u001b[0;32mreturn\u001b[0m \u001b[0;32mTrue\u001b[0m\u001b[0;34m\u001b[0m\u001b[0;34m\u001b[0m\u001b[0m\n\u001b[1;32m      6\u001b[0m \u001b[0;34m\u001b[0m\u001b[0m\n\u001b[0;32m----> 7\u001b[0;31m train_generator = datagen.flow_from_directory(\n\u001b[0m\u001b[1;32m      8\u001b[0m     \u001b[0;34m'/content/segmentation/traffic/train'\u001b[0m\u001b[0;34m,\u001b[0m\u001b[0;34m\u001b[0m\u001b[0;34m\u001b[0m\u001b[0m\n\u001b[1;32m      9\u001b[0m     \u001b[0mtarget_size\u001b[0m\u001b[0;34m=\u001b[0m\u001b[0;34m(\u001b[0m\u001b[0;36m150\u001b[0m\u001b[0;34m,\u001b[0m \u001b[0;36m150\u001b[0m\u001b[0;34m)\u001b[0m\u001b[0;34m,\u001b[0m\u001b[0;34m\u001b[0m\u001b[0;34m\u001b[0m\u001b[0m\n",
            "\u001b[0;31mTypeError\u001b[0m: ImageDataGenerator.flow_from_directory() got an unexpected keyword argument 'directory_filters'"
          ]
        }
      ]
    },
    {
      "cell_type": "markdown",
      "source": [
        "**ResNet 50** training\n"
      ],
      "metadata": {
        "id": "gV34Mmzrplj_"
      }
    },
    {
      "cell_type": "code",
      "source": [
        "import numpy as np\n",
        "import tensorflow as tf\n",
        "from tensorflow.keras.layers import Dense, Dropout, Flatten, Conv2D, MaxPooling2D\n",
        "from tensorflow.keras.models import Sequential\n",
        "from tensorflow.keras.preprocessing.image import ImageDataGenerator\n",
        "\n",
        "# Provide the path to your data directory\n",
        "data_directory = '/content/segmentation/traffic'\n",
        "\n",
        "# Create an ImageDataGenerator with rescaling\n",
        "datagen = ImageDataGenerator(rescale=1./255)\n",
        "\n",
        "# Training data generator\n",
        "train_generator = datagen.flow_from_directory(\n",
        "    directory=data_directory + '/train',\n",
        "    target_size=(256, 256),\n",
        "    batch_size=32,\n",
        "    class_mode='categorical',\n",
        "    classes=['high', 'medium', 'normal']  # Exclude unwanted classes\n",
        ")\n",
        "\n",
        "# Validation data generator\n",
        "validation_generator = datagen.flow_from_directory(\n",
        "    directory=data_directory + '/test',\n",
        "    target_size=(256, 256),\n",
        "    batch_size=32,\n",
        "    class_mode='categorical',\n",
        "    classes=['high', 'medium', 'normal']  # Exclude unwanted classes\n",
        ")\n",
        "\n",
        "# Print information about the data generators\n",
        "print(\"Number of classes:\", len(train_generator.class_indices))\n",
        "print(\"Class indices:\", train_generator.class_indices)\n",
        "\n",
        "# Define the model\n",
        "model = Sequential([\n",
        "    Conv2D(32, (3, 3), activation='relu', input_shape=(256, 256, 3)),\n",
        "    MaxPooling2D((2, 2)),\n",
        "    Conv2D(64, (3, 3), activation='relu'),\n",
        "    MaxPooling2D((2, 2)),\n",
        "    Conv2D(128, (3, 3), activation='relu'),  # Additional convolutional layer\n",
        "    MaxPooling2D((2, 2)),\n",
        "    Flatten(),\n",
        "    Dense(256, activation='relu'),  # Increased dense layer size\n",
        "    Dropout(0.5),\n",
        "    Dense(3, activation='softmax')\n",
        "])\n",
        "\n",
        "\n",
        "# Compile the model\n",
        "model.compile(loss='categorical_crossentropy',\n",
        "              optimizer='adam',\n",
        "              metrics=['accuracy'])\n",
        "\n",
        "# Train the model\n",
        "model.fit(\n",
        "    train_generator,\n",
        "    steps_per_epoch=len(train_generator),\n",
        "    epochs=20,\n",
        "    validation_data=validation_generator,\n",
        "    validation_steps=len(validation_generator)\n",
        ")\n",
        "test_loss, test_acc = model.evaluate(validation_generator)\n",
        "print('Test accuracy:', test_acc)\n"
      ],
      "metadata": {
        "colab": {
          "base_uri": "https://localhost:8080/"
        },
        "id": "mDPVGlT7XIDA",
        "outputId": "48c208f4-6f7d-4ec8-9062-1fdf3566640b"
      },
      "execution_count": 87,
      "outputs": [
        {
          "output_type": "stream",
          "name": "stdout",
          "text": [
            "Found 35 images belonging to 3 classes.\n",
            "Found 11 images belonging to 3 classes.\n",
            "Number of classes: 3\n",
            "Class indices: {'high': 0, 'medium': 1, 'normal': 2}\n",
            "Epoch 1/20\n",
            "2/2 [==============================] - 6s 5s/step - loss: 4.8426 - accuracy: 0.5429 - val_loss: 5.9873 - val_accuracy: 0.3636\n",
            "Epoch 2/20\n",
            "2/2 [==============================] - 5s 4s/step - loss: 2.1671 - accuracy: 0.4571 - val_loss: 1.7320 - val_accuracy: 0.2727\n",
            "Epoch 3/20\n",
            "2/2 [==============================] - 6s 2s/step - loss: 0.9995 - accuracy: 0.6571 - val_loss: 1.0988 - val_accuracy: 0.5455\n",
            "Epoch 4/20\n",
            "2/2 [==============================] - 5s 4s/step - loss: 1.0894 - accuracy: 0.3714 - val_loss: 1.0951 - val_accuracy: 0.1818\n",
            "Epoch 5/20\n",
            "2/2 [==============================] - 5s 4s/step - loss: 0.9080 - accuracy: 0.8286 - val_loss: 1.2122 - val_accuracy: 0.2727\n",
            "Epoch 6/20\n",
            "2/2 [==============================] - 5s 4s/step - loss: 0.8119 - accuracy: 0.9143 - val_loss: 1.1787 - val_accuracy: 0.4545\n",
            "Epoch 7/20\n",
            "2/2 [==============================] - 5s 1s/step - loss: 0.7002 - accuracy: 0.9429 - val_loss: 1.5880 - val_accuracy: 0.2727\n",
            "Epoch 8/20\n",
            "2/2 [==============================] - 5s 4s/step - loss: 0.9610 - accuracy: 0.5714 - val_loss: 2.0350 - val_accuracy: 0.2727\n",
            "Epoch 9/20\n",
            "2/2 [==============================] - 5s 1s/step - loss: 0.4061 - accuracy: 0.8286 - val_loss: 1.9205 - val_accuracy: 0.4545\n",
            "Epoch 10/20\n",
            "2/2 [==============================] - 5s 4s/step - loss: 0.4871 - accuracy: 0.8571 - val_loss: 2.0350 - val_accuracy: 0.3636\n",
            "Epoch 11/20\n",
            "2/2 [==============================] - 5s 4s/step - loss: 0.3482 - accuracy: 0.8857 - val_loss: 3.0397 - val_accuracy: 0.2727\n",
            "Epoch 12/20\n",
            "2/2 [==============================] - 5s 1s/step - loss: 0.3028 - accuracy: 0.8857 - val_loss: 3.0700 - val_accuracy: 0.2727\n",
            "Epoch 13/20\n",
            "2/2 [==============================] - 5s 5s/step - loss: 0.1736 - accuracy: 0.9143 - val_loss: 2.5125 - val_accuracy: 0.3636\n",
            "Epoch 14/20\n",
            "2/2 [==============================] - 5s 4s/step - loss: 0.2509 - accuracy: 0.9429 - val_loss: 2.7266 - val_accuracy: 0.2727\n",
            "Epoch 15/20\n",
            "2/2 [==============================] - 5s 1s/step - loss: 0.2756 - accuracy: 0.9429 - val_loss: 3.2842 - val_accuracy: 0.4545\n",
            "Epoch 16/20\n",
            "2/2 [==============================] - 5s 1s/step - loss: 0.1182 - accuracy: 0.9429 - val_loss: 4.7922 - val_accuracy: 0.3636\n",
            "Epoch 17/20\n",
            "2/2 [==============================] - 5s 1s/step - loss: 0.2292 - accuracy: 0.9714 - val_loss: 5.7409 - val_accuracy: 0.3636\n",
            "Epoch 18/20\n",
            "2/2 [==============================] - 5s 4s/step - loss: 0.1829 - accuracy: 0.8571 - val_loss: 5.6025 - val_accuracy: 0.3636\n",
            "Epoch 19/20\n",
            "2/2 [==============================] - 5s 1s/step - loss: 0.2378 - accuracy: 0.9429 - val_loss: 3.9929 - val_accuracy: 0.1818\n",
            "Epoch 20/20\n",
            "2/2 [==============================] - 5s 4s/step - loss: 0.3112 - accuracy: 0.9143 - val_loss: 3.4314 - val_accuracy: 0.3636\n",
            "1/1 [==============================] - 1s 608ms/step - loss: 3.4314 - accuracy: 0.3636\n",
            "Test accuracy: 0.3636363744735718\n"
          ]
        }
      ]
    },
    {
      "cell_type": "code",
      "source": [
        "print(\"Training class indices:\", train_generator.class_indices)\n",
        "print(\"Validation class indices:\", validation_generator.class_indices)\n",
        "\n"
      ],
      "metadata": {
        "colab": {
          "base_uri": "https://localhost:8080/"
        },
        "id": "BdIMLnh4Zdu9",
        "outputId": "0fe0a5fe-c7f4-4fd3-cbfd-642c62e60f42"
      },
      "execution_count": 86,
      "outputs": [
        {
          "output_type": "stream",
          "name": "stdout",
          "text": [
            "Training class indices: {'high': 0, 'medium': 1, 'normal': 2}\n",
            "Validation class indices: {'high': 0, 'medium': 1, 'normal': 2}\n"
          ]
        }
      ]
    },
    {
      "cell_type": "code",
      "source": [
        "from tensorflow.keras.applications import VGG16\n",
        "from tensorflow.keras.layers import GlobalAveragePooling2D\n",
        "\n",
        "# Use VGG16 as a feature extractor\n",
        "base_model = VGG16(weights='imagenet', include_top=False, input_shape=(256, 256, 3))\n",
        "base_model.trainable = False\n",
        "\n",
        "model = Sequential([\n",
        "    base_model,\n",
        "    GlobalAveragePooling2D(),\n",
        "    Dense(256, activation='relu'),\n",
        "    Dropout(0.5),\n",
        "    Dense(3, activation='softmax')\n",
        "])\n"
      ],
      "metadata": {
        "id": "BnTIGiBpm9co"
      },
      "execution_count": 84,
      "outputs": []
    },
    {
      "cell_type": "markdown",
      "source": [
        "**VGG** trial\n"
      ],
      "metadata": {
        "id": "SYJL00qPpvSR"
      }
    },
    {
      "cell_type": "code",
      "source": [
        "model = Sequential([\n",
        "    Conv2D(32, (3, 3), activation='relu', input_shape=(256, 256, 3)),\n",
        "    MaxPooling2D((2, 2)),\n",
        "    Conv2D(64, (3, 3), activation='relu'),\n",
        "    MaxPooling2D((2, 2)),\n",
        "    Conv2D(128, (3, 3), activation='relu'),  # Additional convolutional layer\n",
        "    MaxPooling2D((2, 2)),\n",
        "    Flatten(),\n",
        "    Dense(256, activation='relu'),  # Increased dense layer size\n",
        "    Dropout(0.5),\n",
        "    Dense(3, activation='softmax')\n",
        "])\n",
        "\n",
        "model.compile(loss='categorical_crossentropy',\n",
        "              optimizer='adam',\n",
        "              metrics=['accuracy'])\n"
      ],
      "metadata": {
        "id": "b60Ge8A-gixp"
      },
      "execution_count": 82,
      "outputs": []
    },
    {
      "cell_type": "markdown",
      "source": [
        "**test on unknown Image**"
      ],
      "metadata": {
        "id": "6X5uVSyyp0u2"
      }
    },
    {
      "cell_type": "code",
      "source": [
        "import numpy as np\n",
        "from keras.preprocessing import image\n",
        "\n",
        "# Load and preprocess the image\n",
        "test_image = image.load_img('/content/Road-traffic-1 (1).jpg', target_size=(256, 256))\n",
        "test_image = image.img_to_array(test_image)\n",
        "test_image = np.expand_dims(test_image, axis=0)\n",
        "\n",
        "# Get model prediction\n",
        "prediction = model.predict(test_image)\n",
        "\n",
        "# Find the index of the class with the highest probability\n",
        "predicted_class_index = np.argmax(prediction[0])\n",
        "\n",
        "# Map the index to the corresponding class label (assuming 0: high, 1: medium, 2: normal)\n",
        "class_labels = [\"high\", \"medium\", \"normal\"]\n",
        "predicted_class_label = class_labels[predicted_class_index]\n",
        "\n",
        "# Print the predicted class label\n",
        "print(\"Predicted class:\", predicted_class_label)\n"
      ],
      "metadata": {
        "colab": {
          "base_uri": "https://localhost:8080/"
        },
        "id": "TlPsPs6ncE7q",
        "outputId": "6e734a02-96c5-43e4-9208-efe139e95eda"
      },
      "execution_count": 89,
      "outputs": [
        {
          "output_type": "stream",
          "name": "stdout",
          "text": [
            "1/1 [==============================] - 0s 47ms/step\n",
            "Predicted class: normal\n"
          ]
        }
      ]
    },
    {
      "cell_type": "code",
      "source": [],
      "metadata": {
        "id": "45ACUw6Zmij2"
      },
      "execution_count": null,
      "outputs": []
    }
  ]
}